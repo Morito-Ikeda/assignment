{
 "cells": [
  {
   "cell_type": "code",
   "execution_count": 1,
   "metadata": {
    "collapsed": false
   },
   "outputs": [],
   "source": [
    "import sys\n",
    "import pickle\n",
    "\n",
    "import numpy as np\n",
    "\n",
    "sys.path.append('/Users/ikedamorito/Desktop/Gunosy/assignment')\n",
    "from utils.classifier import NaiveBayes\n",
    "from utils.train import get_cv_accuracy"
   ]
  },
  {
   "cell_type": "markdown",
   "metadata": {},
   "source": [
    "## スムージングのパラメータをチューニング"
   ]
  },
  {
   "cell_type": "code",
   "execution_count": 2,
   "metadata": {
    "collapsed": false
   },
   "outputs": [
    {
     "name": "stdout",
     "output_type": "stream",
     "text": [
      "--- 10-fold cross validation ---\n",
      "Accuracy: 0.9539083557951482 (+/- 0.06208595169331739)\n",
      "alpha = 1\n",
      "\n",
      "--- 10-fold cross validation ---\n",
      "Accuracy: 0.9609164420485176 (+/- 0.0728162014895481)\n",
      "alpha = 0.01\n",
      "\n",
      "--- 10-fold cross validation ---\n",
      "Accuracy: 0.9597035040431265 (+/- 0.06885143883575867)\n",
      "alpha = 0.05\n",
      "\n",
      "--- 10-fold cross validation ---\n",
      "Accuracy: 0.9590296495956873 (+/- 0.06660682235880278)\n",
      "alpha = 0.1\n",
      "\n",
      "--- 10-fold cross validation ---\n",
      "Accuracy: 0.9567385444743935 (+/- 0.06348209616226524)\n",
      "alpha = 0.5\n",
      "\n"
     ]
    }
   ],
   "source": [
    "with open('../pkl_objects/processed_data.pkl', 'rb') as f:\n",
    "    data = pickle.load(f)\n",
    "np.random.shuffle(data)\n",
    "    \n",
    "# グリッドサーチ用のパラメータ\n",
    "alphas = [1, 0.01, 0.05, 0.1, 0.5]\n",
    "\n",
    "for alpha in alphas:\n",
    "    # ナイーブベイズ分類\n",
    "    nb = NaiveBayes(alpha)   \n",
    "\n",
    "    # 10-fold cross validationの精度で評価\n",
    "    get_cv_accuracy(nb, data, K=10)\n",
    "    print('alpha = {0}\\n'.format(alpha))"
   ]
  },
  {
   "cell_type": "code",
   "execution_count": null,
   "metadata": {
    "collapsed": true
   },
   "outputs": [],
   "source": []
  }
 ],
 "metadata": {
  "anaconda-cloud": {},
  "kernelspec": {
   "display_name": "Python [conda root]",
   "language": "python",
   "name": "conda-root-py"
  },
  "language_info": {
   "codemirror_mode": {
    "name": "ipython",
    "version": 3
   },
   "file_extension": ".py",
   "mimetype": "text/x-python",
   "name": "python",
   "nbconvert_exporter": "python",
   "pygments_lexer": "ipython3",
   "version": "3.5.2"
  }
 },
 "nbformat": 4,
 "nbformat_minor": 1
}
