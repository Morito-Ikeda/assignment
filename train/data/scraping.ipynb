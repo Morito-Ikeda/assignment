{
 "cells": [
  {
   "cell_type": "code",
   "execution_count": 1,
   "metadata": {
    "collapsed": true
   },
   "outputs": [],
   "source": [
    "from bs4 import BeautifulSoup\n",
    "import urllib.request as req\n",
    "import urllib\n",
    "import time\n",
    "import os"
   ]
  },
  {
   "cell_type": "code",
   "execution_count": 2,
   "metadata": {
    "collapsed": true
   },
   "outputs": [],
   "source": [
    "category = ['エンタメ', 'スポーツ', 'おもしろ', '国内', '海外', 'コラム', 'IT・科学', 'グルメ']\n",
    "cat_urls = {}\n",
    "for i in range(8):\n",
    "    cat = category[i]\n",
    "    url = 'https://gunosy.com/categories/{0}'.format(i+1)\n",
    "    cat_urls[cat] = url"
   ]
  },
  {
   "cell_type": "code",
   "execution_count": 3,
   "metadata": {
    "collapsed": false
   },
   "outputs": [
    {
     "data": {
      "text/plain": [
       "{'IT・科学': 'https://gunosy.com/categories/7',\n",
       " 'おもしろ': 'https://gunosy.com/categories/3',\n",
       " 'エンタメ': 'https://gunosy.com/categories/1',\n",
       " 'グルメ': 'https://gunosy.com/categories/8',\n",
       " 'コラム': 'https://gunosy.com/categories/6',\n",
       " 'スポーツ': 'https://gunosy.com/categories/2',\n",
       " '国内': 'https://gunosy.com/categories/4',\n",
       " '海外': 'https://gunosy.com/categories/5'}"
      ]
     },
     "execution_count": 3,
     "metadata": {},
     "output_type": "execute_result"
    }
   ],
   "source": [
    "cat_urls"
   ]
  },
  {
   "cell_type": "code",
   "execution_count": 4,
   "metadata": {
    "collapsed": false
   },
   "outputs": [],
   "source": [
    "max_page = 45\n",
    "for cat in cat_urls.keys():\n",
    "    cat_url = cat_urls[cat]\n",
    "    os.mkdir(cat)\n",
    "    save_path = cat + '/' + 'articles.txt'\n",
    "    \n",
    "    for i in range(1, max_page+1):\n",
    "        listpage_url = cat_url + '?page=' + str(i)\n",
    "        res = req.urlopen(listpage_url)\n",
    "        soup = BeautifulSoup(res, 'html.parser')\n",
    "        a_list = soup.select('div.list_content > div.list_thumb > a')\n",
    "        artcle_urls = [a.attrs['href'] for a in a_list if a != None]\n",
    "        \n",
    "        for article_url in artcle_urls:\n",
    "            try:\n",
    "                res = req.urlopen(article_url)\n",
    "                soup = BeautifulSoup(res, 'html.parser')\n",
    "                article = soup.find(class_='article').text.strip()\n",
    "                article = article + '\\n'\n",
    "            except urllib.error.HTTPError as e:\n",
    "                print('HTTPError ' + str(e.code))\n",
    "            \n",
    "            with open(save_path, 'a') as f:\n",
    "                f.write(article)\n",
    "            \n",
    "            time.sleep(0.5)"
   ]
  },
  {
   "cell_type": "code",
   "execution_count": null,
   "metadata": {
    "collapsed": true
   },
   "outputs": [],
   "source": []
  }
 ],
 "metadata": {
  "anaconda-cloud": {},
  "kernelspec": {
   "display_name": "Python [conda root]",
   "language": "python",
   "name": "conda-root-py"
  },
  "language_info": {
   "codemirror_mode": {
    "name": "ipython",
    "version": 3
   },
   "file_extension": ".py",
   "mimetype": "text/x-python",
   "name": "python",
   "nbconvert_exporter": "python",
   "pygments_lexer": "ipython3",
   "version": "3.5.2"
  }
 },
 "nbformat": 4,
 "nbformat_minor": 1
}
