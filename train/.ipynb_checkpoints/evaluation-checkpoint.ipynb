{
 "cells": [
  {
   "cell_type": "code",
   "execution_count": 1,
   "metadata": {
    "collapsed": false
   },
   "outputs": [],
   "source": [
    "import sys\n",
    "sys.path.append('/Users/ikedamorito/Desktop/Gunosy/assignment')\n",
    "\n",
    "from utils import Tokenizer, NaiveBayes\n",
    "import glob\n",
    "import numpy as np"
   ]
  },
  {
   "cell_type": "code",
   "execution_count": 2,
   "metadata": {
    "collapsed": true
   },
   "outputs": [],
   "source": [
    "cat_pathes = glob.glob('data/*/articles.txt')"
   ]
  },
  {
   "cell_type": "code",
   "execution_count": 3,
   "metadata": {
    "collapsed": false
   },
   "outputs": [
    {
     "data": {
      "text/plain": [
       "['data/IT・科学/articles.txt',\n",
       " 'data/おもしろ/articles.txt',\n",
       " 'data/エンタメ/articles.txt',\n",
       " 'data/グルメ/articles.txt',\n",
       " 'data/コラム/articles.txt',\n",
       " 'data/スポーツ/articles.txt',\n",
       " 'data/国内/articles.txt',\n",
       " 'data/海外/articles.txt']"
      ]
     },
     "execution_count": 3,
     "metadata": {},
     "output_type": "execute_result"
    }
   ],
   "source": [
    "cat_pathes"
   ]
  },
  {
   "cell_type": "code",
   "execution_count": 4,
   "metadata": {
    "collapsed": true
   },
   "outputs": [],
   "source": [
    "category = [path.split('/')[1] for path in cat_pathes]\n",
    "cat_nums = {}\n",
    "for i, cat in enumerate(category):\n",
    "    cat_nums[cat] = i"
   ]
  },
  {
   "cell_type": "code",
   "execution_count": 5,
   "metadata": {
    "collapsed": false
   },
   "outputs": [
    {
     "data": {
      "text/plain": [
       "{'IT・科学': 0,\n",
       " 'おもしろ': 1,\n",
       " 'エンタメ': 2,\n",
       " 'グルメ': 3,\n",
       " 'コラム': 4,\n",
       " 'スポーツ': 5,\n",
       " '国内': 6,\n",
       " '海外': 7}"
      ]
     },
     "execution_count": 5,
     "metadata": {},
     "output_type": "execute_result"
    }
   ],
   "source": [
    "cat_nums"
   ]
  },
  {
   "cell_type": "markdown",
   "metadata": {},
   "source": [
    "### ひとまずチューニングなし、CVなしで、3クラスの多値分類NBでの精度検証をしてみる"
   ]
  },
  {
   "cell_type": "code",
   "execution_count": 6,
   "metadata": {
    "collapsed": true
   },
   "outputs": [],
   "source": [
    "docs = []\n",
    "labels = []"
   ]
  },
  {
   "cell_type": "code",
   "execution_count": 7,
   "metadata": {
    "collapsed": false
   },
   "outputs": [],
   "source": [
    "t = Tokenizer(dic='/usr/local/lib/mecab/dic/mecab-ipadic-neologd/', stopword=True)\n",
    "\n",
    "for file_path in cat_pathes:\n",
    "    cat = file_path.split('/')[1]\n",
    "    label = cat_nums[cat]\n",
    "    with open(file_path, 'r') as f:\n",
    "        texts = f.readlines()\n",
    "        for text in texts:\n",
    "            words = t.tokenize(text)\n",
    "            docs.append(words)\n",
    "            labels.append(label)\n",
    "\n",
    "docs = np.array(docs).reshape((-1, 1))\n",
    "labels = np.array(labels).reshape((-1, 1))\n",
    "\n",
    "data = np.hstack((docs, labels))\n",
    "np.random.shuffle(data)"
   ]
  },
  {
   "cell_type": "code",
   "execution_count": 8,
   "metadata": {
    "collapsed": false
   },
   "outputs": [
    {
     "name": "stderr",
     "output_type": "stream",
     "text": [
      "/Users/ikedamorito/.pyenv/versions/anaconda3-4.2.0/lib/python3.5/site-packages/sklearn/cross_validation.py:44: DeprecationWarning: This module was deprecated in version 0.18 in favor of the model_selection module into which all the refactored classes and functions are moved. Also note that the interface of the new CV iterators are different from that of this module. This module will be removed in 0.20.\n",
      "  \"This module will be removed in 0.20.\", DeprecationWarning)\n"
     ]
    }
   ],
   "source": [
    "X = data[:, 0]\n",
    "y = data[:, 1]\n",
    "\n",
    "from sklearn.cross_validation import train_test_split\n",
    "X_train, X_test, y_train, y_test = train_test_split(X, y, test_size=0.3)"
   ]
  },
  {
   "cell_type": "code",
   "execution_count": 9,
   "metadata": {
    "collapsed": false
   },
   "outputs": [],
   "source": [
    "# ナイーブベイズ分類\n",
    "nb = NaiveBayes(alpha=1)\n",
    "nb.fit(X_train, y_train)\n",
    "y_pred = nb.predict(X_test)"
   ]
  },
  {
   "cell_type": "code",
   "execution_count": 10,
   "metadata": {
    "collapsed": false
   },
   "outputs": [],
   "source": [
    "y_test = list(y_test)\n",
    "y_pred = list(y_pred)"
   ]
  },
  {
   "cell_type": "code",
   "execution_count": 11,
   "metadata": {
    "collapsed": false
   },
   "outputs": [],
   "source": [
    "# いくつかの指標で評価\n",
    "from sklearn.metrics import confusion_matrix\n",
    "confmat = confusion_matrix(y_true=y_test, y_pred=y_pred)\n",
    "tp = confmat[0][0]\n",
    "fp = confmat[1][0]\n",
    "tn = confmat[1][1]\n",
    "fn = confmat[0][1]\n",
    "\n",
    "accuracy = tp / (tp+fp)\n",
    "recall = tp / (tp+fn)\n",
    "F_value = 2*accuracy*recall / (accuracy+recall)"
   ]
  },
  {
   "cell_type": "code",
   "execution_count": 12,
   "metadata": {
    "collapsed": false
   },
   "outputs": [
    {
     "name": "stdout",
     "output_type": "stream",
     "text": [
      "accuracy: 0.9431818181818182\n",
      "recall: 1.0\n",
      "F-value: 0.9707602339181286\n"
     ]
    }
   ],
   "source": [
    "print('accuracy: {0}'.format(accuracy))\n",
    "print('recall: {0}'.format(recall))\n",
    "print('F-value: {0}'.format(F_value))"
   ]
  },
  {
   "cell_type": "code",
   "execution_count": 17,
   "metadata": {
    "collapsed": false
   },
   "outputs": [],
   "source": [
    "# 学習した分類器をシリアライズ\n",
    "import pickle\n",
    "pickle.dump(nb, open('../pkl_objects/naivebayes.pkl', 'wb'), protocol=4)"
   ]
  },
  {
   "cell_type": "code",
   "execution_count": null,
   "metadata": {
    "collapsed": true
   },
   "outputs": [],
   "source": []
  },
  {
   "cell_type": "markdown",
   "metadata": {},
   "source": [
    "## グリッドサーチとCVによるチューニング"
   ]
  },
  {
   "cell_type": "code",
   "execution_count": null,
   "metadata": {
    "collapsed": true
   },
   "outputs": [],
   "source": [
    "# グリッドサーチ用のパラメータ\n",
    "\n",
    "# dics = ['/usr/local/lib/mecab/dic/mecab-ipadic-neologd/', '/usr/local/lib/mecab/dic/ipadic/']"
   ]
  },
  {
   "cell_type": "code",
   "execution_count": null,
   "metadata": {
    "collapsed": true
   },
   "outputs": [],
   "source": [
    "# 最も良かったモデルをpickleで保存\n",
    "# それをwebアプリに搭載\n",
    "# できればweb上でモデルのリアルタイム更新を可能にする"
   ]
  }
 ],
 "metadata": {
  "anaconda-cloud": {},
  "kernelspec": {
   "display_name": "Python [conda root]",
   "language": "python",
   "name": "conda-root-py"
  },
  "language_info": {
   "codemirror_mode": {
    "name": "ipython",
    "version": 3
   },
   "file_extension": ".py",
   "mimetype": "text/x-python",
   "name": "python",
   "nbconvert_exporter": "python",
   "pygments_lexer": "ipython3",
   "version": "3.5.2"
  }
 },
 "nbformat": 4,
 "nbformat_minor": 1
}
